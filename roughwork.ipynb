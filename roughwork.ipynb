{
 "cells": [
  {
   "cell_type": "markdown",
   "metadata": {},
   "source": [
    "# Introduction\n",
    "\n",
    "### Questions\n",
    "\n",
    "1. Do I come up with a way to map equivalent expressions?\n",
    "4. single eqn, multi eqn, curriculum, train/test split\n",
    "6. Robust to trig/log/exp/sqrt? Pare down other actions\n",
    "7. GCN... dummy! Get this working pronto.\n",
    "8 Embedding\n",
    "8. Visualizer\n",
    "9. i/e rewards\n",
    "10. Profile\n",
    "- Check if later equations are solvable IN THEORY, with new, smaller action space\n",
    "\n",
    "10. Alternate evaluators: dont run greedy during evaluation. Let run multiple times, and check Tsolve .... we're inventing."
   ]
  },
  {
   "cell_type": "code",
   "execution_count": 87,
   "metadata": {},
   "outputs": [
    {
     "name": "stdout",
     "output_type": "stream",
     "text": [
      "(e + (a*x + b)/(c*x + d))*(c*x + d) = 0\n",
      "a*x + b + c*e*x + d*e = 0\n",
      "b + d*e + x*(a + c*e) = 0\n",
      "b + x*(a + c*e) = -d*e\n",
      "x*(a + c*e) = -b - d*e\n",
      "x = (-b - d*e)/(a + c*e)\n"
     ]
    }
   ],
   "source": [
    "from sympy import symbols\n",
    "from utils.utils_env import *\n",
    "from utils.custom_functions import *\n",
    "\n",
    "a,b,c,d,e,x = symbols('a b c d e x')\n",
    "\n",
    "lhs, rhs = (a*x+b)/(c*x+d) + e, 0\n",
    "get_ordered_sub_expressions(lhs)\n",
    "\n",
    "actions = [ (truediv,1/(c*x + d)), (custom_ratsimp, None), (custom_collect,x), (sub,d*e), (sub,b), (truediv, a + c*e)]\n",
    "for (op,term) in actions:\n",
    "    lhs, rhs = op(lhs, term), op(rhs, term)\n",
    "    print(f'{lhs} = {rhs}')"
   ]
  },
  {
   "cell_type": "code",
   "execution_count": 82,
   "metadata": {},
   "outputs": [
    {
     "ename": "TypeError",
     "evalue": "cannot determine truth value of Relational",
     "output_type": "error",
     "traceback": [
      "\u001b[0;31m---------------------------------------------------------------------------\u001b[0m",
      "\u001b[0;31mTypeError\u001b[0m                                 Traceback (most recent call last)",
      "Cell \u001b[0;32mIn[82], line 64\u001b[0m\n\u001b[1;32m     62\u001b[0m \u001b[38;5;28;01mfor\u001b[39;00m expr \u001b[38;5;129;01min\u001b[39;00m test_expressions:\n\u001b[1;32m     63\u001b[0m     time_old \u001b[38;5;241m=\u001b[39m benchmark_function(get_ordered_sub_expressions_old, expr)\n\u001b[0;32m---> 64\u001b[0m     time_new \u001b[38;5;241m=\u001b[39m \u001b[43mbenchmark_function\u001b[49m\u001b[43m(\u001b[49m\u001b[43mget_ordered_sub_expressions_new\u001b[49m\u001b[43m,\u001b[49m\u001b[43m \u001b[49m\u001b[43mexpr\u001b[49m\u001b[43m)\u001b[49m\n\u001b[1;32m     66\u001b[0m     output_old \u001b[38;5;241m=\u001b[39m get_ordered_sub_expressions_old(expr)\n\u001b[1;32m     67\u001b[0m     output_new \u001b[38;5;241m=\u001b[39m get_ordered_sub_expressions_new(expr)\n",
      "Cell \u001b[0;32mIn[82], line 50\u001b[0m, in \u001b[0;36mbenchmark_function\u001b[0;34m(func, expr, num_runs)\u001b[0m\n\u001b[1;32m     48\u001b[0m start_time \u001b[38;5;241m=\u001b[39m time\u001b[38;5;241m.\u001b[39mtime()\n\u001b[1;32m     49\u001b[0m \u001b[38;5;28;01mfor\u001b[39;00m _ \u001b[38;5;129;01min\u001b[39;00m \u001b[38;5;28mrange\u001b[39m(num_runs):\n\u001b[0;32m---> 50\u001b[0m     \u001b[43mfunc\u001b[49m\u001b[43m(\u001b[49m\u001b[43mexpr\u001b[49m\u001b[43m)\u001b[49m\n\u001b[1;32m     51\u001b[0m \u001b[38;5;28;01mreturn\u001b[39;00m (time\u001b[38;5;241m.\u001b[39mtime() \u001b[38;5;241m-\u001b[39m start_time) \u001b[38;5;241m/\u001b[39m num_runs\n",
      "Cell \u001b[0;32mIn[82], line 43\u001b[0m, in \u001b[0;36mget_ordered_sub_expressions_new\u001b[0;34m(expr)\u001b[0m\n\u001b[1;32m     40\u001b[0m         queue\u001b[38;5;241m.\u001b[39mextend(e\u001b[38;5;241m.\u001b[39margs)\n\u001b[1;32m     42\u001b[0m sub_expressions\u001b[38;5;241m.\u001b[39mdiscard(expr)\n\u001b[0;32m---> 43\u001b[0m \u001b[38;5;28;01mreturn\u001b[39;00m \u001b[38;5;28;43msorted\u001b[39;49m\u001b[43m(\u001b[49m\u001b[43msub_expressions\u001b[49m\u001b[43m,\u001b[49m\u001b[43m \u001b[49m\u001b[43mkey\u001b[49m\u001b[38;5;241;43m=\u001b[39;49m\u001b[38;5;28;43;01mlambda\u001b[39;49;00m\u001b[43m \u001b[49m\u001b[43mx\u001b[49m\u001b[43m:\u001b[49m\u001b[43m \u001b[49m\u001b[43m(\u001b[49m\u001b[43mx\u001b[49m\u001b[38;5;241;43m.\u001b[39;49m\u001b[43mcount_ops\u001b[49m\u001b[43m(\u001b[49m\u001b[43m)\u001b[49m\u001b[43m,\u001b[49m\u001b[43m \u001b[49m\u001b[43mx\u001b[49m\u001b[43m)\u001b[49m\u001b[43m)\u001b[49m\n",
      "File \u001b[0;32m~/mambaforge/envs/abel-rl/lib/python3.9/site-packages/sympy/core/relational.py:516\u001b[0m, in \u001b[0;36mRelational.__bool__\u001b[0;34m(self)\u001b[0m\n\u001b[1;32m    515\u001b[0m \u001b[38;5;28;01mdef\u001b[39;00m \u001b[38;5;21m__bool__\u001b[39m(\u001b[38;5;28mself\u001b[39m):\n\u001b[0;32m--> 516\u001b[0m     \u001b[38;5;28;01mraise\u001b[39;00m \u001b[38;5;167;01mTypeError\u001b[39;00m(\u001b[38;5;124m\"\u001b[39m\u001b[38;5;124mcannot determine truth value of Relational\u001b[39m\u001b[38;5;124m\"\u001b[39m)\n",
      "\u001b[0;31mTypeError\u001b[0m: cannot determine truth value of Relational"
     ]
    }
   ],
   "source": [
    "import time\n",
    "from collections import deque\n",
    "from sympy import symbols\n",
    "from utils.utils_env import *\n",
    "from utils.custom_functions import *\n",
    "\n",
    "def get_ordered_sub_expressions_old(expr):\n",
    "    if expr == 0:\n",
    "        return []\n",
    "    \n",
    "    sub_expressions = set()\n",
    "    queue = [expr]  # BFS queue\n",
    "    \n",
    "    while queue:\n",
    "        e = queue.pop(0)\n",
    "        \n",
    "        if e not in sub_expressions and 1/e not in sub_expressions and e not in [-1, 0, 1]:\n",
    "            sub_expressions.add(e)\n",
    "            if not e.is_Atom:\n",
    "                queue.extend(e.args)\n",
    "    \n",
    "    sub_expressions.discard(expr)\n",
    "    return sorted(sub_expressions, key=lambda x: (len(str(x)), str(x)))\n",
    "\n",
    "def get_ordered_sub_expressions_new(expr):\n",
    "    if expr == 0:\n",
    "        return []\n",
    "    \n",
    "    sub_expressions = set()\n",
    "    queue = deque([expr])\n",
    "    \n",
    "    while queue:\n",
    "        e = queue.popleft()\n",
    "        \n",
    "        if e in sub_expressions or 1/e in sub_expressions or e in [-1, 0, 1]:\n",
    "            continue\n",
    "        \n",
    "        sub_expressions.add(e)\n",
    "        if not e.is_Atom:\n",
    "            queue.extend(e.args)\n",
    "    \n",
    "    sub_expressions.discard(expr)\n",
    "    return sorted(sub_expressions, key=lambda x: (x.count_ops(), x))\n",
    "\n",
    "    #return sorted(sub_expressions, key=str)\n",
    "\n",
    "def benchmark_function(func, expr, num_runs=100):\n",
    "    start_time = time.time()\n",
    "    for _ in range(num_runs):\n",
    "        func(expr)\n",
    "    return (time.time() - start_time) / num_runs  # Average time per run\n",
    "\n",
    "a, b, c, d, e, x = symbols('a b c d e x')\n",
    "\n",
    "test_expressions = [\n",
    "    a*x + b,\n",
    "    (a*x + b) * (c*x + d),\n",
    "    (a*x + b)/(c*x + d) + e,\n",
    "    a*b + c*d + e*x + x**2\n",
    "]\n",
    "\n",
    "for expr in test_expressions:\n",
    "    time_old = benchmark_function(get_ordered_sub_expressions_old, expr)\n",
    "    time_new = benchmark_function(get_ordered_sub_expressions_new, expr)\n",
    "    \n",
    "    output_old = get_ordered_sub_expressions_old(expr)\n",
    "    output_new = get_ordered_sub_expressions_new(expr)\n",
    "    same_output = output_old == output_new\n",
    "    \n",
    "    print(f\"Expression: {expr}\")\n",
    "    print(f\"Old Version Time: {time_old:.6f} sec\")\n",
    "    print(f\"New Version Time: {time_new:.6f} sec\")\n",
    "    print(f\"Old output: {output_old}\")\n",
    "    print(f\"new output: {output_new}\")\n",
    "    print(f\"Speedup: {time_old / time_new:.2f}x\")\n",
    "    print(f\"Outputs Match: {same_output}\")\n",
    "    print(\"-\" * 50)"
   ]
  },
  {
   "cell_type": "code",
   "execution_count": 83,
   "metadata": {},
   "outputs": [
    {
     "name": "stdout",
     "output_type": "stream",
     "text": [
      "PyTorch Version: 2.3.1\n",
      "MPS Available: True\n",
      "MPS Built: True\n"
     ]
    }
   ],
   "source": [
    "import torch\n",
    "print(\"PyTorch Version:\", torch.__version__)\n",
    "print(\"MPS Available:\", torch.backends.mps.is_available())\n",
    "print(\"MPS Built:\", torch.backends.mps.is_built())"
   ]
  },
  {
   "cell_type": "code",
   "execution_count": null,
   "metadata": {},
   "outputs": [],
   "source": []
  }
 ],
 "metadata": {
  "kernelspec": {
   "display_name": "abel-rl",
   "language": "python",
   "name": "python3"
  },
  "language_info": {
   "codemirror_mode": {
    "name": "ipython",
    "version": 3
   },
   "file_extension": ".py",
   "mimetype": "text/x-python",
   "name": "python",
   "nbconvert_exporter": "python",
   "pygments_lexer": "ipython3",
   "version": "3.9.19"
  }
 },
 "nbformat": 4,
 "nbformat_minor": 2
}
