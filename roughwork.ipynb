{
 "cells": [
  {
   "cell_type": "markdown",
   "metadata": {},
   "source": [
    "# Introduction\n",
    "\n",
    "### Questions\n",
    "\n",
    "1. Do I come up with a way to map equivalent expressions?\n",
    "4. single eqn, multi eqn, curriculum, train/test split\n",
    "6. Robust to trig/log/exp/sqrt? Pare down other actions\n",
    "7. GCN... dummy! Get this working pronto.\n",
    "8 Embedding\n",
    "8. Visualizer\n",
    "9. i/e rewards\n",
    "10. Profile\n",
    "\n",
    "- Alternate evaluators: dont run greedy during evaluation. Let run multiple times, and check Tsolve .... we're inventing.\n",
    "- sqrt issue\n",
    "- vectorize env; test \n",
    "- better encoding: x -> [0,1], first element = variable, const, real number, operation. second, encoding. Then use CNN.\n",
    "- compouind term --> complete square, complete cube.\n",
    "\n",
    "\n",
    "### Make sure all equations are solvable -- write out the action sequence"
   ]
  },
  {
   "cell_type": "markdown",
   "metadata": {},
   "source": [
    "### Solve sqrt "
   ]
  },
  {
   "cell_type": "code",
   "execution_count": 150,
   "metadata": {},
   "outputs": [
    {
     "name": "stdout",
     "output_type": "stream",
     "text": [
      "a*x | 0 | True\n",
      "b + x | -b | True\n",
      "a*x + b | -b/a | True\n",
      "a/x + b | -a/b | True\n",
      "c*(a*x + b) + d | (-b*c - d)/(a*c) | True\n",
      "-c + sqrt(a*x + b) | (-b + c**2)/a | True\n",
      "c + (a*x**2 + b)**2 | -sqrt(-b/a - sqrt(-c)/a) | True\n",
      "c + d/(a*x + b) | (-b*c - d)/(a*c) | True\n",
      "c*x + d + e*(a*x + b) | (-b*e - d)/(a*e + c) | True\n",
      "e + (a*x + b)/(c*x + d) | (-b - d*e)/(a + c*e) | True\n"
     ]
    }
   ],
   "source": [
    "from sympy import symbols, simplify, powsimp, solve, sympify\n",
    "from utils.utils_env import *\n",
    "from utils.custom_functions import *\n",
    "\n",
    "\n",
    "def check_eqn_solved(lhs, rhs, main_eqn):\n",
    "    \"\"\"Checks if the equation is solved efficiently.\"\"\"\n",
    "    \n",
    "    x = symbols('x')\n",
    "    \n",
    "    # Solution must have form (lhs, rhs) = (x, something without x)\n",
    "    if lhs != x:\n",
    "        return False\n",
    "\n",
    "    # Check if rhs is a constant or does not contain x\n",
    "    if isinstance(rhs, (int, float, Number)) or x not in rhs.free_symbols:\n",
    "\n",
    "        # Substitute x = rhs into the main equation; should be zero\n",
    "        sol = main_eqn.subs(x, rhs)\n",
    "\n",
    "        # Fast checks before calling simplify\n",
    "        if sol == 0 or sol.is_zero:\n",
    "            return True\n",
    "\n",
    "        # Use a cheaper method before full simplify\n",
    "        if sol.expand() == 0:\n",
    "            return True\n",
    "\n",
    "        # Check for sqrts\n",
    "        if powdenest(sol, force=True) == 0:\n",
    "            return True\n",
    "\n",
    "        # Use cheaper method first\n",
    "        if ratsimp(sol) == 0:\n",
    "            return True\n",
    "\n",
    "        return False  # Avoid full simplify unless necessary\n",
    "    \n",
    "    return False\n",
    "\n",
    "\n",
    "\n",
    "a,b,c,d,e,x = symbols('a b c d e x')\n",
    "\n",
    "main_eqns = [\n",
    "    \"a*x\", \"x + b\", \"a*x + b\", \"a/x + b\", \"c*(a*x + b) + d\",\n",
    "    \"sqrt(a*x+b) - c\",  \"(a*x**2+b)**2 + c\", \"d/(a*x + b) + c\", \"e*(a*x + b) + (c*x + d)\",\n",
    "    \"(a*x + b)/(c*x + d) + e\"\n",
    "]\n",
    "\n",
    "for main_eqn in main_eqns:\n",
    "    main_eqn = sympify(main_eqn)\n",
    "    lhs = x\n",
    "    rhs =  solve(main_eqn, x)[0]\n",
    "    print(f'{main_eqn} | {rhs} | {check_eqn_solved(lhs, rhs, main_eqn)}')"
   ]
  },
  {
   "cell_type": "markdown",
   "metadata": {},
   "source": [
    "### 2d encoding"
   ]
  },
  {
   "cell_type": "code",
   "execution_count": null,
   "metadata": {},
   "outputs": [
    {
     "ename": "SyntaxError",
     "evalue": "invalid syntax (3208010181.py, line 2)",
     "output_type": "error",
     "traceback": [
      "\u001b[0;36m  Cell \u001b[0;32mIn[13], line 2\u001b[0;36m\u001b[0m\n\u001b[0;31m    from utils.utils_env import\u001b[0m\n\u001b[0m                               ^\u001b[0m\n\u001b[0;31mSyntaxError\u001b[0m\u001b[0;31m:\u001b[0m invalid syntax\n"
     ]
    }
   ],
   "source": [
    "from sympy import symbols, simplify, powsimp, solve, sympify\n",
    "from utils.utils_env import make_feature_dict_integer_2d\n",
    "\n",
    "a,b,c,d,e,x = symbols('a b c d e x')\n",
    "main_eqn = a*x+b\n",
    "lhs, rhs = main_eqn, c\n",
    "feature_dict = make_feature_dict_integer_2d(main_eqn)\n",
    "feature_dict"
   ]
  }
 ],
 "metadata": {
  "kernelspec": {
   "display_name": "abel-rl",
   "language": "python",
   "name": "python3"
  },
  "language_info": {
   "codemirror_mode": {
    "name": "ipython",
    "version": 3
   },
   "file_extension": ".py",
   "mimetype": "text/x-python",
   "name": "python",
   "nbconvert_exporter": "python",
   "pygments_lexer": "ipython3",
   "version": "3.9.19"
  }
 },
 "nbformat": 4,
 "nbformat_minor": 2
}
